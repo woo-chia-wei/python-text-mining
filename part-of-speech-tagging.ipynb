{
 "cells": [
  {
   "cell_type": "markdown",
   "metadata": {},
   "source": [
    "## Load packages"
   ]
  },
  {
   "cell_type": "code",
   "execution_count": 1,
   "metadata": {
    "collapsed": true
   },
   "outputs": [],
   "source": [
    "import os\n",
    "import nltk\n",
    "from nltk import word_tokenize, sent_tokenize, pos_tag, ne_chunk_sents\n",
    "from nltk.tag.stanford import StanfordPOSTagger, StanfordNERTagger\n",
    "from itertools import groupby"
   ]
  },
  {
   "cell_type": "markdown",
   "metadata": {},
   "source": [
    "## Target sentence to analyze"
   ]
  },
  {
   "cell_type": "code",
   "execution_count": 2,
   "metadata": {
    "collapsed": true
   },
   "outputs": [],
   "source": [
    "text = '''Professor Tan Eng Chye, NUS Deputy President and Provost, and Professor \n",
    "Menahem Ben-Sasson, President of HUJ signed the joint degree agreement at NUS, \n",
    "in the presence of Ambassador of Israel to Singapore Her Excellency Amira Arnon \n",
    "and about 30 invited guests, on July 03, 2013.\n",
    "'''"
   ]
  },
  {
   "cell_type": "markdown",
   "metadata": {},
   "source": [
    "## Set environment JAVAHOME to java.exe"
   ]
  },
  {
   "cell_type": "code",
   "execution_count": 3,
   "metadata": {
    "collapsed": true
   },
   "outputs": [],
   "source": [
    "java_path = 'C:\\\\Program Files\\\\Java\\\\jre1.8.0_121\\\\bin\\\\java.exe'\n",
    "os.environ['JAVAHOME'] = java_path"
   ]
  },
  {
   "cell_type": "markdown",
   "metadata": {},
   "source": [
    "## NLTK Name Entity Chunker\n",
    "Entry with tab is labelled chunk which is identified as name entity"
   ]
  },
  {
   "cell_type": "code",
   "execution_count": 4,
   "metadata": {},
   "outputs": [
    {
     "name": "stdout",
     "output_type": "stream",
     "text": [
      "\t ('Professor', 'NNP')\n",
      "\t ('Tan', 'NNP')\n",
      "\t ('Eng', 'NNP')\n",
      "\t ('Chye', 'NNP')\n",
      "\t (',', ',')\n",
      "(ORGANIZATION NUS/NNP)\n",
      "\t ('Deputy', 'NNP')\n",
      "\t ('President', 'NNP')\n",
      "\t ('and', 'CC')\n",
      "(ORGANIZATION Provost/NNP)\n",
      "\t (',', ',')\n",
      "\t ('and', 'CC')\n",
      "(ORGANIZATION Professor/NNP Menahem/NNP)\n",
      "\t ('Ben-Sasson', 'NNP')\n",
      "\t (',', ',')\n",
      "\t ('President', 'NNP')\n",
      "\t ('of', 'IN')\n",
      "(ORGANIZATION HUJ/NNP)\n",
      "\t ('signed', 'VBD')\n",
      "\t ('the', 'DT')\n",
      "\t ('joint', 'JJ')\n",
      "\t ('degree', 'NN')\n",
      "\t ('agreement', 'NN')\n",
      "\t ('at', 'IN')\n",
      "(ORGANIZATION NUS/NNP)\n",
      "\t (',', ',')\n",
      "\t ('in', 'IN')\n",
      "\t ('the', 'DT')\n",
      "\t ('presence', 'NN')\n",
      "\t ('of', 'IN')\n",
      "(ORGANIZATION Ambassador/NNP)\n",
      "\t ('of', 'IN')\n",
      "(GPE Israel/NNP)\n",
      "\t ('to', 'TO')\n",
      "(GPE Singapore/NNP)\n",
      "\t ('Her', 'NNP')\n",
      "\t ('Excellency', 'NNP')\n",
      "(PERSON Amira/NNP Arnon/NNP)\n",
      "\t ('and', 'CC')\n",
      "\t ('about', 'IN')\n",
      "\t ('30', 'CD')\n",
      "\t ('invited', 'JJ')\n",
      "\t ('guests', 'NNS')\n",
      "\t (',', ',')\n",
      "\t ('on', 'IN')\n",
      "\t ('July', 'NNP')\n",
      "\t ('03', 'CD')\n",
      "\t (',', ',')\n",
      "\t ('2013', 'CD')\n",
      "\t ('.', '.')\n"
     ]
    }
   ],
   "source": [
    "sentences = sent_tokenize(text)\n",
    "token_sentences = [word_tokenize(sent) for sent in sentences]\n",
    "pos_sentences = [pos_tag(sent) for sent in token_sentences]\n",
    "chunked_sentences = ne_chunk_sents(pos_sentences)\n",
    "\n",
    "for sent in chunked_sentences:\n",
    "    for chunk in sent:\n",
    "        if hasattr(chunk, \"label\"):\n",
    "            print(chunk)\n",
    "        else:\n",
    "            print('\\t', chunk)"
   ]
  },
  {
   "cell_type": "markdown",
   "metadata": {},
   "source": [
    "## Standard POS Tagger\n",
    "Please note: The model & jar files are just part of *\"stanford-postagger-full-2017-06-09\"* which can be downloaded [here](https://nlp.stanford.edu/software/tagger.shtml)."
   ]
  },
  {
   "cell_type": "code",
   "execution_count": 5,
   "metadata": {},
   "outputs": [
    {
     "data": {
      "text/plain": [
       "[('Professor', 'NNP'),\n",
       " ('Tan', 'NNP'),\n",
       " ('Eng', 'NNP'),\n",
       " ('Chye', 'NNP'),\n",
       " (',', ','),\n",
       " ('NUS', 'NNP'),\n",
       " ('Deputy', 'NNP'),\n",
       " ('President', 'NNP'),\n",
       " ('and', 'CC'),\n",
       " ('Provost', 'NNP'),\n",
       " (',', ','),\n",
       " ('and', 'CC'),\n",
       " ('Professor', 'NNP'),\n",
       " ('Menahem', 'NNP'),\n",
       " ('Ben-Sasson', 'NNP'),\n",
       " (',', ','),\n",
       " ('President', 'NNP'),\n",
       " ('of', 'IN'),\n",
       " ('HUJ', 'NNP'),\n",
       " ('signed', 'VBD'),\n",
       " ('the', 'DT'),\n",
       " ('joint', 'JJ'),\n",
       " ('degree', 'NN'),\n",
       " ('agreement', 'NN'),\n",
       " ('at', 'IN'),\n",
       " ('NUS', 'NNP'),\n",
       " (',', ','),\n",
       " ('in', 'IN'),\n",
       " ('the', 'DT'),\n",
       " ('presence', 'NN'),\n",
       " ('of', 'IN'),\n",
       " ('Ambassador', 'NNP'),\n",
       " ('of', 'IN'),\n",
       " ('Israel', 'NNP'),\n",
       " ('to', 'TO'),\n",
       " ('Singapore', 'NNP'),\n",
       " ('Her', 'PRP$'),\n",
       " ('Excellency', 'NNP'),\n",
       " ('Amira', 'NNP'),\n",
       " ('Arnon', 'NNP'),\n",
       " ('and', 'CC'),\n",
       " ('about', 'IN'),\n",
       " ('30', 'CD'),\n",
       " ('invited', 'VBN'),\n",
       " ('guests', 'NNS'),\n",
       " (',', ','),\n",
       " ('on', 'IN'),\n",
       " ('July', 'NNP'),\n",
       " ('03', 'CD'),\n",
       " (',', ','),\n",
       " ('2013', 'CD'),\n",
       " ('.', '.')]"
      ]
     },
     "execution_count": 5,
     "metadata": {},
     "output_type": "execute_result"
    }
   ],
   "source": [
    "# Set model & jar paths\n",
    "pos_model_path = os.getcwd() + \"\\\\tools\\\\stanford-postagger-full-2017-06-09\\\\english-bidirectional-distsim.tagger\"\n",
    "pos_jar_path = os.getcwd() + \"\\\\tools\\\\stanford-postagger-full-2017-06-09\\\\stanford-postagger.jar\"\n",
    "\n",
    "# Initialize the tagger\n",
    "st_pos = StanfordPOSTagger(pos_model_path, pos_jar_path)\n",
    "set_standard = st_pos.tag(word_tokenize(text))\n",
    "set_standard"
   ]
  },
  {
   "cell_type": "markdown",
   "metadata": {},
   "source": [
    "## Standard NER Tagger\n",
    "Please note: The model & jar files are just part of *\"stanford-ner-2017-06-09\"* which can be downloaded [here](https://nlp.stanford.edu/software/CRF-NER.shtml)."
   ]
  },
  {
   "cell_type": "code",
   "execution_count": 6,
   "metadata": {},
   "outputs": [
    {
     "data": {
      "text/plain": [
       "[('Professor', 'O'),\n",
       " ('Tan', 'PERSON'),\n",
       " ('Eng', 'PERSON'),\n",
       " ('Chye', 'PERSON'),\n",
       " (',', 'O'),\n",
       " ('NUS', 'ORGANIZATION'),\n",
       " ('Deputy', 'O'),\n",
       " ('President', 'O'),\n",
       " ('and', 'O'),\n",
       " ('Provost', 'O'),\n",
       " (',', 'O'),\n",
       " ('and', 'O'),\n",
       " ('Professor', 'O'),\n",
       " ('Menahem', 'PERSON'),\n",
       " ('Ben-Sasson', 'PERSON'),\n",
       " (',', 'O'),\n",
       " ('President', 'O'),\n",
       " ('of', 'O'),\n",
       " ('HUJ', 'ORGANIZATION'),\n",
       " ('signed', 'O'),\n",
       " ('the', 'O'),\n",
       " ('joint', 'O'),\n",
       " ('degree', 'O'),\n",
       " ('agreement', 'O'),\n",
       " ('at', 'O'),\n",
       " ('NUS', 'ORGANIZATION'),\n",
       " (',', 'O'),\n",
       " ('in', 'O'),\n",
       " ('the', 'O'),\n",
       " ('presence', 'O'),\n",
       " ('of', 'O'),\n",
       " ('Ambassador', 'O'),\n",
       " ('of', 'O'),\n",
       " ('Israel', 'LOCATION'),\n",
       " ('to', 'O'),\n",
       " ('Singapore', 'LOCATION'),\n",
       " ('Her', 'O'),\n",
       " ('Excellency', 'O'),\n",
       " ('Amira', 'PERSON'),\n",
       " ('Arnon', 'PERSON'),\n",
       " ('and', 'O'),\n",
       " ('about', 'O'),\n",
       " ('30', 'O'),\n",
       " ('invited', 'O'),\n",
       " ('guests', 'O'),\n",
       " (',', 'O'),\n",
       " ('on', 'O'),\n",
       " ('July', 'O'),\n",
       " ('03', 'O'),\n",
       " (',', 'O'),\n",
       " ('2013', 'O'),\n",
       " ('.', 'O')]"
      ]
     },
     "execution_count": 6,
     "metadata": {},
     "output_type": "execute_result"
    }
   ],
   "source": [
    "ner_model_path = os.getcwd() + \"\\\\tools\\\\stanford-ner-2017-06-09\\\\english.all.3class.distsim.crf.ser.gz\"\n",
    "ner_jar_path = os.getcwd() + \"\\\\tools\\\\stanford-ner-2017-06-09\\\\stanford-ner.jar\"\n",
    "\n",
    "st_ner = StanfordNERTagger(ner_model_path, ner_jar_path)\n",
    "sent_ner = st_ner.tag(word_tokenize(text))\n",
    "sent_ner"
   ]
  },
  {
   "cell_type": "markdown",
   "metadata": {},
   "source": [
    "## 7Class NER Tagger\n",
    "This tagger provides more flexibility, it tags Currency, Location, Percentages along with Persons, Organizations etc.   \n",
    "Please note: The model & jar files are just part of *\"stanford-ner-2017-06-09\"* which can be downloaded [here](https://nlp.stanford.edu/software/CRF-NER.shtml)."
   ]
  },
  {
   "cell_type": "code",
   "execution_count": 7,
   "metadata": {},
   "outputs": [
    {
     "data": {
      "text/plain": [
       "[('Professor', 'O'),\n",
       " ('Tan', 'PERSON'),\n",
       " ('Eng', 'PERSON'),\n",
       " ('Chye', 'PERSON'),\n",
       " (',', 'O'),\n",
       " ('NUS', 'ORGANIZATION'),\n",
       " ('Deputy', 'O'),\n",
       " ('President', 'O'),\n",
       " ('and', 'O'),\n",
       " ('Provost', 'O'),\n",
       " (',', 'O'),\n",
       " ('and', 'O'),\n",
       " ('Professor', 'O'),\n",
       " ('Menahem', 'PERSON'),\n",
       " ('Ben-Sasson', 'PERSON'),\n",
       " (',', 'O'),\n",
       " ('President', 'O'),\n",
       " ('of', 'O'),\n",
       " ('HUJ', 'ORGANIZATION'),\n",
       " ('signed', 'O'),\n",
       " ('the', 'O'),\n",
       " ('joint', 'O'),\n",
       " ('degree', 'O'),\n",
       " ('agreement', 'O'),\n",
       " ('at', 'O'),\n",
       " ('NUS', 'ORGANIZATION'),\n",
       " (',', 'O'),\n",
       " ('in', 'O'),\n",
       " ('the', 'O'),\n",
       " ('presence', 'O'),\n",
       " ('of', 'O'),\n",
       " ('Ambassador', 'O'),\n",
       " ('of', 'O'),\n",
       " ('Israel', 'LOCATION'),\n",
       " ('to', 'O'),\n",
       " ('Singapore', 'ORGANIZATION'),\n",
       " ('Her', 'ORGANIZATION'),\n",
       " ('Excellency', 'ORGANIZATION'),\n",
       " ('Amira', 'ORGANIZATION'),\n",
       " ('Arnon', 'ORGANIZATION'),\n",
       " ('and', 'O'),\n",
       " ('about', 'O'),\n",
       " ('30', 'O'),\n",
       " ('invited', 'O'),\n",
       " ('guests', 'O'),\n",
       " (',', 'O'),\n",
       " ('on', 'O'),\n",
       " ('July', 'DATE'),\n",
       " ('03', 'DATE'),\n",
       " (',', 'DATE'),\n",
       " ('2013', 'DATE'),\n",
       " ('.', 'O')]"
      ]
     },
     "execution_count": 7,
     "metadata": {},
     "output_type": "execute_result"
    }
   ],
   "source": [
    "ner7_model_path = os.getcwd() + \"\\\\tools\\\\stanford-ner-2017-06-09\\\\english.muc.7class.distsim.crf.ser.gz\"\n",
    "\n",
    "st_ner7 = StanfordNERTagger(ner7_model_path, ner_jar_path)\n",
    "sent_ner7 = st_ner7.tag(word_tokenize(text))\n",
    "sent_ner7"
   ]
  },
  {
   "cell_type": "markdown",
   "metadata": {},
   "source": [
    "## List all entities\n",
    "Compare results from different NER taggers."
   ]
  },
  {
   "cell_type": "code",
   "execution_count": 8,
   "metadata": {},
   "outputs": [
    {
     "name": "stdout",
     "output_type": "stream",
     "text": [
      "Original article:  Professor Tan Eng Chye, NUS Deputy President and Provost, and Professor \n",
      "Menahem Ben-Sasson, President of HUJ signed the joint degree agreement at NUS, \n",
      "in the presence of Ambassador of Israel to Singapore Her Excellency Amira Arnon \n",
      "and about 30 invited guests, on July 03, 2013.\n",
      "\n",
      "Standard NER: \n",
      "PERSON       Tan Eng Chye\n",
      "ORGANIZATION NUS\n",
      "PERSON       Menahem Ben-Sasson\n",
      "ORGANIZATION HUJ\n",
      "ORGANIZATION NUS\n",
      "LOCATION     Israel\n",
      "LOCATION     Singapore\n",
      "PERSON       Amira Arnon\n",
      "\n",
      "7 Class NER: \n",
      "PERSON       Tan Eng Chye\n",
      "ORGANIZATION NUS\n",
      "PERSON       Menahem Ben-Sasson\n",
      "ORGANIZATION HUJ\n",
      "ORGANIZATION NUS\n",
      "LOCATION     Israel\n",
      "ORGANIZATION Singapore Her Excellency Amira Arnon\n",
      "DATE         July 03 , 2013\n"
     ]
    }
   ],
   "source": [
    "def list_entities(sent):\n",
    "    for tag, chunk in groupby(sent, lambda x:x[1]):\n",
    "        if tag != \"O\":\n",
    "            print(\"%-12s\"%tag, \" \".join(w for w, t in chunk))\n",
    "\n",
    "print(\"Original article: \",text)        \n",
    "\n",
    "print(\"Standard NER: \")\n",
    "list_entities(sent_ner)\n",
    "print()\n",
    "\n",
    "print(\"7 Class NER: \")\n",
    "list_entities(sent_ner7)"
   ]
  }
 ],
 "metadata": {
  "kernelspec": {
   "display_name": "Python 3",
   "language": "python",
   "name": "python3"
  },
  "language_info": {
   "codemirror_mode": {
    "name": "ipython",
    "version": 3
   },
   "file_extension": ".py",
   "mimetype": "text/x-python",
   "name": "python",
   "nbconvert_exporter": "python",
   "pygments_lexer": "ipython3",
   "version": "3.6.1"
  }
 },
 "nbformat": 4,
 "nbformat_minor": 2
}
